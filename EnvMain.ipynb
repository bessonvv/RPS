{
  "nbformat": 4,
  "nbformat_minor": 0,
  "metadata": {
    "colab": {
      "provenance": []
    },
    "kernelspec": {
      "name": "python3",
      "display_name": "Python 3"
    },
    "language_info": {
      "name": "python"
    }
  },
  "cells": [
    {
      "cell_type": "code",
      "execution_count": 1,
      "metadata": {
        "id": "FnBwxk-c-x26",
        "collapsed": true,
        "colab": {
          "base_uri": "https://localhost:8080/"
        },
        "outputId": "fb3d8eac-fd3d-484a-baed-c1fd3b295b78"
      },
      "outputs": [
        {
          "output_type": "stream",
          "name": "stdout",
          "text": [
            "\u001b[?25l     \u001b[90m━━━━━━━━━━━━━━━━━━━━━━━━━━━━━━━━━━━━━━━━\u001b[0m \u001b[32m0.0/156.5 kB\u001b[0m \u001b[31m?\u001b[0m eta \u001b[36m-:--:--\u001b[0m\r\u001b[2K     \u001b[91m━━━━━━━━━━━━━━━━━━━━━━━\u001b[0m\u001b[91m╸\u001b[0m\u001b[90m━━━━━━━━━━━━━━━━\u001b[0m \u001b[32m92.2/156.5 kB\u001b[0m \u001b[31m2.5 MB/s\u001b[0m eta \u001b[36m0:00:01\u001b[0m\r\u001b[2K     \u001b[90m━━━━━━━━━━━━━━━━━━━━━━━━━━━━━━━━━━━━━━━━\u001b[0m \u001b[32m156.5/156.5 kB\u001b[0m \u001b[31m2.9 MB/s\u001b[0m eta \u001b[36m0:00:00\u001b[0m\n",
            "\u001b[?25h  Preparing metadata (setup.py) ... \u001b[?25l\u001b[?25hdone\n",
            "\u001b[2K   \u001b[90m━━━━━━━━━━━━━━━━━━━━━━━━━━━━━━━━━━━━━━━━\u001b[0m \u001b[32m1.3/1.3 MB\u001b[0m \u001b[31m23.0 MB/s\u001b[0m eta \u001b[36m0:00:00\u001b[0m\n",
            "\u001b[2K   \u001b[90m━━━━━━━━━━━━━━━━━━━━━━━━━━━━━━━━━━━━━━━━\u001b[0m \u001b[32m953.8/953.8 kB\u001b[0m \u001b[31m42.9 MB/s\u001b[0m eta \u001b[36m0:00:00\u001b[0m\n",
            "\u001b[2K   \u001b[90m━━━━━━━━━━━━━━━━━━━━━━━━━━━━━━━━━━━━━━━━\u001b[0m \u001b[32m840.2/840.2 kB\u001b[0m \u001b[31m37.8 MB/s\u001b[0m eta \u001b[36m0:00:00\u001b[0m\n",
            "\u001b[2K   \u001b[90m━━━━━━━━━━━━━━━━━━━━━━━━━━━━━━━━━━━━━━━━\u001b[0m \u001b[32m178.7/178.7 kB\u001b[0m \u001b[31m12.3 MB/s\u001b[0m eta \u001b[36m0:00:00\u001b[0m\n",
            "\u001b[?25h  Building wheel for chess (setup.py) ... \u001b[?25l\u001b[?25hdone\n"
          ]
        }
      ],
      "source": [
        "!pip install -q -U kaggle_environments"
      ]
    },
    {
      "cell_type": "code",
      "source": [
        "import numpy as np\n",
        "import pandas as pd\n",
        "import random\n",
        "\n",
        "import matplotlib.pyplot as plt\n",
        "import seaborn as sns\n",
        "\n",
        "\n",
        "from kaggle_environments import make, evaluate, utils"
      ],
      "metadata": {
        "id": "0e1TLNm8GWNl"
      },
      "execution_count": 2,
      "outputs": []
    },
    {
      "cell_type": "markdown",
      "source": [
        "# Задача\n",
        "Описать поведение 12 различных агентов, играющих друг с другом в игру \"Камень-ножницы-бумага\".\n",
        "\n",
        "# Специальные обозначения:\n",
        "  - 0 – \"камень\"\n",
        "  - 1 — \"бумага\"\n",
        "  - 2 — \"ножницы\""
      ],
      "metadata": {
        "id": "WBtwhIkqIQCU"
      }
    },
    {
      "cell_type": "markdown",
      "source": [
        "# Агенты встроенные в библиотеку\n",
        "Данных агентов мы прописывать не будем:\n",
        "  1. rock — всегда показывает камень\n",
        "  2. paper — всегда показывает бумагу\n",
        "  3. scissors – всегда показывает ножницы\n",
        "  4. copy_opponent – копирует последний ход соперника\n",
        "  5. reactionary – Если выиграл или ничья покажет знак который победил соперника в предыдущем раунде.\n",
        "  6. counter_reactionary – в случае своей победы в предыдущем раунде показывает знак, который победил бы его знак в предыдущем раунде, а если проиграет покажет знак, который победил бы его соперника в прошлом раунде.\n",
        "  7. statistical – реализует стратегию, основанную на статистическом анализе действий противника."
      ],
      "metadata": {
        "id": "YL_34LYyHTq1"
      }
    },
    {
      "cell_type": "markdown",
      "source": [
        "## Случайный агент\n",
        "\n",
        "Выбирает одно из трех действий (камень, ножницы или бумага) случайным образом в каждом раунде."
      ],
      "metadata": {
        "id": "OXxaFxtKLN8Q"
      }
    },
    {
      "cell_type": "code",
      "source": [
        "def random_agent(observation, configuration):\n",
        "  return random.choice([0,1,2])"
      ],
      "metadata": {
        "id": "BnZKqsOsJzA1"
      },
      "execution_count": 3,
      "outputs": []
    },
    {
      "cell_type": "markdown",
      "source": [
        "# Цикличный агент\n",
        "\n",
        "Выбирает камень в первом раунде, ножницы во втором, бумагу в третьем и затем повторяет этот цикл"
      ],
      "metadata": {
        "id": "W5j1jZDrMRn3"
      }
    },
    {
      "cell_type": "code",
      "source": [
        "def cycle_agent(observation, configuration):\n",
        "  # Список ходов в цикле: камень, ножницы, бумага\n",
        "    moves = [0, 1, 2]\n",
        "\n",
        "    # Номер текущего раунда\n",
        "    round_number = observation.step\n",
        "\n",
        "    # Определение хода на основе номера раунда\n",
        "    move_index = round_number % len(moves)\n",
        "\n",
        "    return moves[move_index]"
      ],
      "metadata": {
        "id": "UoZaxz1rMZiP"
      },
      "execution_count": 4,
      "outputs": []
    },
    {
      "cell_type": "markdown",
      "source": [
        "# Агент случайно предрасположенности №1\n",
        "\n",
        "Показыает случайный знак с с весами камень - 0.5, бумага - 0.25, ножницы - 0.25"
      ],
      "metadata": {
        "id": "ttHo87gigNzh"
      }
    },
    {
      "cell_type": "code",
      "source": [
        "def random_pick_agent1(observation, configuration):\n",
        "  # Массив значений\n",
        "  arr = [0, 1, 2]\n",
        "  # Веса для каждого значения (соответствуют вероятностям)\n",
        "  weights = [0.5, 0.25, 0.25]\n",
        "  # Выбор с учетом указанных весов\n",
        "  result = random.choices(arr, weights=weights, k=1)[0]\n",
        "  return result"
      ],
      "metadata": {
        "id": "E01BSKzxggfX"
      },
      "execution_count": 5,
      "outputs": []
    },
    {
      "cell_type": "markdown",
      "source": [
        "# Агент случайно предрасположенности №2\n",
        "\n",
        "Показыает случайный знак с с весами камень - 0.25, бумага - 0.5, ножницы - 0.25"
      ],
      "metadata": {
        "id": "fyfz8ew0iFdb"
      }
    },
    {
      "cell_type": "code",
      "source": [
        "def random_pick_agent2(observation, configuration):\n",
        "  # Массив значений\n",
        "  arr = [0, 1, 2]\n",
        "  # Веса для каждого значения (соответствуют вероятностям)\n",
        "  weights = [0.25, 0.5, 0.25]\n",
        "  # Выбор с учетом указанных весов\n",
        "  result = random.choices(arr, weights=weights, k=1)[0]\n",
        "  return result"
      ],
      "metadata": {
        "id": "feDMa-KKkNUX"
      },
      "execution_count": 6,
      "outputs": []
    },
    {
      "cell_type": "markdown",
      "source": [
        "# Агент случайно предрасположенности №3\n",
        "\n",
        "Показыает случайный знак с с весами камень - 0.25, бумага - 0.25, ножницы - 0.5"
      ],
      "metadata": {
        "id": "j4azSjlAiH0E"
      }
    },
    {
      "cell_type": "code",
      "source": [
        "def random_pick_agent3(observation, configuration):\n",
        "  # Массив значений\n",
        "  arr = [0, 1, 2]\n",
        "  # Веса для каждого значения (соответствуют вероятностям)\n",
        "  weights = [0.25, 0.25, 0.5]\n",
        "  # Выбор с учетом указанных весов\n",
        "  result = random.choices(arr, weights=weights, k=1)[0]\n",
        "  return result"
      ],
      "metadata": {
        "id": "83mqQiGLkSzp"
      },
      "execution_count": 7,
      "outputs": []
    },
    {
      "cell_type": "markdown",
      "source": [
        "# Турнир\n",
        "\n",
        "Турнир проводиться между 12 агентами c количеством шагов – 100."
      ],
      "metadata": {
        "id": "UCHrogvWhvZ4"
      }
    },
    {
      "cell_type": "markdown",
      "source": [
        "# Реализация турнира"
      ],
      "metadata": {
        "id": "8mLciQ_A7hYX"
      }
    },
    {
      "cell_type": "code",
      "source": [
        "def sum_of_winner_points(agent, list_of_opponents):\n",
        "    sum_of_points = 0\n",
        "    points = []\n",
        "    for i in list_of_opponents:\n",
        "        # Создаем среду \"камень, ножницы, бумага\"\n",
        "        env = make(\"rps\", configuration={\"episodeSteps\": 100}, debug=True)\n",
        "        # Запускаем сражение\n",
        "        env.run([agent, i])\n",
        "        # Получаем счет одного агента\n",
        "        points.append(env.steps[-1][0]['reward'])\n",
        "    # Суммируем все очки агента после того как он сыграл со всеми агентами\n",
        "    sum_of_points = sum(points)\n",
        "    return sum_of_points\n",
        "\n",
        "agents_list = ['rock', 'paper', 'scissors',\n",
        "               'copy_opponent', 'reactionary',\n",
        "               'counter_reactionary', 'statistical', random_agent,\n",
        "               cycle_agent, random_pick_agent1, random_pick_agent2, random_pick_agent3]\n",
        "\n",
        "score = {}\n",
        "\n",
        "def tournament(agents_list):\n",
        "    for i in agents_list:\n",
        "        # Создаем копию списка, исключив текущего агента i\n",
        "        list_without_i = [agent for agent in agents_list if agent != i]\n",
        "        # Добавялем в список сууму очков агента\n",
        "        score[i] = sum_of_winner_points(i, list_without_i)\n",
        "    # Находим максимум очков из этого списка\n",
        "    max_key = max(score, key=score.get)\n",
        "    return f'Победитель турнира агент {max_key} со счетом {score[max_key]}'\n",
        "\n",
        "print(tournament(agents_list))"
      ],
      "metadata": {
        "colab": {
          "base_uri": "https://localhost:8080/"
        },
        "id": "qekvQAq-onxa",
        "outputId": "e7dfa7ef-747e-4945-b368-3943c3ff7c99"
      },
      "execution_count": 14,
      "outputs": [
        {
          "output_type": "stream",
          "name": "stdout",
          "text": [
            "Победитель турнира агент statistical со счетом 320.0\n"
          ]
        }
      ]
    },
    {
      "cell_type": "markdown",
      "source": [
        "# Вывод\n",
        "Я описал поведение 12 агентов и выяснил, что самым эффективным из них является агент statistical."
      ],
      "metadata": {
        "id": "Cu4VKStV795_"
      }
    }
  ]
}